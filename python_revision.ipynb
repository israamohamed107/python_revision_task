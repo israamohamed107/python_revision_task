{
 "cells": [
  {
   "cell_type": "markdown",
   "metadata": {},
   "source": [
    "16. python program to find the factorial of a number"
   ]
  },
  {
   "cell_type": "code",
   "execution_count": 2,
   "metadata": {},
   "outputs": [
    {
     "name": "stdout",
     "output_type": "stream",
     "text": [
      "Enter a number = 5\n",
      "factorial of 5 = 120\n"
     ]
    }
   ],
   "source": [
    "num=int(input('Enter a number = '))\n",
    "fact=1\n",
    "if(num>0):\n",
    "    for m in range(1,num+1):\n",
    "        fact=fact*m\n",
    "    print(f'factorial of {num} = {fact}')\n",
    "elif(num==0):\n",
    "    print(f'factorial of {num} = 1')\n",
    "else:\n",
    "    print('doesn\\'t exist for negative numbers')"
   ]
  },
  {
   "cell_type": "markdown",
   "metadata": {},
   "source": [
    "18. python program to print the fibonacci sequence"
   ]
  },
  {
   "cell_type": "code",
   "execution_count": 4,
   "metadata": {},
   "outputs": [
    {
     "name": "stdout",
     "output_type": "stream",
     "text": [
      "Enter number of terms = 5\n",
      "0 1 1 2 3 "
     ]
    }
   ],
   "source": [
    "term=int(input('Enter number of terms = '))\n",
    "num1,num2=0,1\n",
    "if term==1:\n",
    "    print(num1)\n",
    "else:\n",
    "    for i in range(term):\n",
    "        print(num1,end=' ')\n",
    "        new_num=num1+num2\n",
    "        num1=num2\n",
    "        num2=new_num"
   ]
  },
  {
   "cell_type": "markdown",
   "metadata": {},
   "source": [
    "28. python program to find the factors of a number"
   ]
  },
  {
   "cell_type": "code",
   "execution_count": 5,
   "metadata": {},
   "outputs": [
    {
     "name": "stdout",
     "output_type": "stream",
     "text": [
      "Enter a number = 320\n",
      "1\n",
      "2\n",
      "4\n",
      "5\n",
      "8\n",
      "10\n",
      "16\n",
      "20\n",
      "32\n",
      "40\n",
      "64\n",
      "80\n",
      "160\n",
      "320\n"
     ]
    }
   ],
   "source": [
    "num=int(input('Enter a number = '))\n",
    "for i in range(1,num+1):\n",
    "    if num%i==0:\n",
    "        print(i)"
   ]
  },
  {
   "cell_type": "markdown",
   "metadata": {},
   "source": [
    "39. python program to check whether a string is palindrome or not"
   ]
  },
  {
   "cell_type": "code",
   "execution_count": 14,
   "metadata": {},
   "outputs": [
    {
     "name": "stdout",
     "output_type": "stream",
     "text": [
      "Enter your string = acd\n",
      "your string isn't palindrome\n"
     ]
    }
   ],
   "source": [
    "my_str=input('Enter your string = ')\n",
    "if my_str==my_str[::-1]:\n",
    "    print('your string is palindrome')\n",
    "else:\n",
    "    print('your string isn\\'t palindrome' )\n"
   ]
  },
  {
   "cell_type": "markdown",
   "metadata": {},
   "source": [
    "19. pyhton program to check armstrong number "
   ]
  },
  {
   "cell_type": "code",
   "execution_count": 19,
   "metadata": {},
   "outputs": [
    {
     "name": "stdout",
     "output_type": "stream",
     "text": [
      "Enter a number = 121\n",
      "armstrong number\n"
     ]
    }
   ],
   "source": [
    "num=int(input('Enter a number = '))\n",
    "temp=num\n",
    "new_num=0\n",
    "while temp>0:\n",
    "    new_num=new_num*10+temp%10\n",
    "    temp=temp//10\n",
    "if num==new_num:\n",
    "    print('armstrong number')\n",
    "else:\n",
    "    print('isn\\'t armstrong number')    "
   ]
  },
  {
   "cell_type": "code",
   "execution_count": null,
   "metadata": {},
   "outputs": [],
   "source": []
  }
 ],
 "metadata": {
  "kernelspec": {
   "display_name": "Python 3",
   "language": "python",
   "name": "python3"
  },
  "language_info": {
   "codemirror_mode": {
    "name": "ipython",
    "version": 3
   },
   "file_extension": ".py",
   "mimetype": "text/x-python",
   "name": "python",
   "nbconvert_exporter": "python",
   "pygments_lexer": "ipython3",
   "version": "3.7.6"
  }
 },
 "nbformat": 4,
 "nbformat_minor": 4
}
